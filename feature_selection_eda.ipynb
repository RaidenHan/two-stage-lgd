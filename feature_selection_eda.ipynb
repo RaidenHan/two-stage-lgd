{
 "cells": [
  {
   "cell_type": "markdown",
   "id": "6611a400-eac1-4682-b21b-0fd6d89bb71c",
   "metadata": {
    "pycharm": {
     "name": "#%% md\n"
    }
   },
   "source": [
    "# Preliminary Feature Selection and Exploratory Data Analysis\n",
    "\n",
    "*Raiden Han*"
   ]
  },
  {
   "cell_type": "markdown",
   "id": "ffd0686c-3ca5-4feb-a34b-56203ae82ae7",
   "metadata": {
    "pycharm": {
     "name": "#%% md\n"
    }
   },
   "source": [
    "In this notebook, I will use a random forest model to explore the permutation importance of the variables and incorporate Ward's linkage to select the variables to be entered into the model. Then, I will conduct an exploratory data analysis for each variable."
   ]
  },
  {
   "cell_type": "code",
   "execution_count": 1,
   "id": "c1e12962-a306-4657-a880-f036cc95e3ab",
   "metadata": {
    "pycharm": {
     "name": "#%%\n"
    }
   },
   "outputs": [],
   "source": [
    "import matplotlib.pyplot as plt\n",
    "import numpy as np\n",
    "import pandas as pd\n",
    "from scipy.cluster import hierarchy\n",
    "from scipy.spatial.distance import squareform\n",
    "from scipy.stats import spearmanr\n",
    "from sklearn.ensemble import RandomForestRegressor\n",
    "from sklearn.inspection import permutation_importance\n",
    "from sklearn.model_selection import train_test_split"
   ]
  },
  {
   "cell_type": "markdown",
   "id": "50137224-39c5-4da5-99b9-c8a3974249df",
   "metadata": {
    "pycharm": {
     "name": "#%% md\n"
    }
   },
   "source": [
    "## Preliminary Feature Selection"
   ]
  },
  {
   "cell_type": "markdown",
   "id": "f2ed0dc3-cb48-43c5-b13c-83208f2db6aa",
   "metadata": {
    "pycharm": {
     "name": "#%% md\n"
    }
   },
   "source": [
    "To prevent the introduction of unknown information, I will first partition the dataset into a training set and a test set on a scale of 80-20. Thereafter all explorations are performed on the training set."
   ]
  },
  {
   "cell_type": "code",
   "execution_count": 2,
   "id": "c1819dd2-ac86-4849-b355-93c416df5efe",
   "metadata": {
    "pycharm": {
     "name": "#%%\n"
    }
   },
   "outputs": [
    {
     "data": {
      "text/html": [
       "<div>\n",
       "<style scoped>\n",
       "    .dataframe tbody tr th:only-of-type {\n",
       "        vertical-align: middle;\n",
       "    }\n",
       "\n",
       "    .dataframe tbody tr th {\n",
       "        vertical-align: top;\n",
       "    }\n",
       "\n",
       "    .dataframe thead th {\n",
       "        text-align: right;\n",
       "    }\n",
       "</style>\n",
       "<table border=\"1\" class=\"dataframe\">\n",
       "  <thead>\n",
       "    <tr style=\"text-align: right;\">\n",
       "      <th></th>\n",
       "      <th>ORIG_UPB</th>\n",
       "      <th>OLTV</th>\n",
       "      <th>DTI</th>\n",
       "      <th>CSCORE_B</th>\n",
       "      <th>PURPOSE</th>\n",
       "      <th>PROP</th>\n",
       "      <th>NO_UNITS</th>\n",
       "      <th>OCC_STAT</th>\n",
       "      <th>LAST_UPB</th>\n",
       "      <th>LOSS_GIVEN_DEFAULT</th>\n",
       "      <th>DFF</th>\n",
       "      <th>UNRATE</th>\n",
       "      <th>CURR_HPI</th>\n",
       "      <th>MORTGAGE30US</th>\n",
       "      <th>MTM_LTV</th>\n",
       "      <th>INT_DIFF</th>\n",
       "    </tr>\n",
       "  </thead>\n",
       "  <tbody>\n",
       "    <tr>\n",
       "      <th>0</th>\n",
       "      <td>68000.0</td>\n",
       "      <td>82</td>\n",
       "      <td>17.0</td>\n",
       "      <td>584.0</td>\n",
       "      <td>R</td>\n",
       "      <td>SF</td>\n",
       "      <td>1</td>\n",
       "      <td>P</td>\n",
       "      <td>66727.36</td>\n",
       "      <td>0.000000</td>\n",
       "      <td>1.79</td>\n",
       "      <td>6.7</td>\n",
       "      <td>260.090000</td>\n",
       "      <td>6.43</td>\n",
       "      <td>71.894627</td>\n",
       "      <td>1.570</td>\n",
       "    </tr>\n",
       "    <tr>\n",
       "      <th>1</th>\n",
       "      <td>81000.0</td>\n",
       "      <td>97</td>\n",
       "      <td>33.0</td>\n",
       "      <td>670.0</td>\n",
       "      <td>P</td>\n",
       "      <td>SF</td>\n",
       "      <td>1</td>\n",
       "      <td>P</td>\n",
       "      <td>81193.29</td>\n",
       "      <td>0.000000</td>\n",
       "      <td>6.17</td>\n",
       "      <td>3.6</td>\n",
       "      <td>236.990000</td>\n",
       "      <td>8.28</td>\n",
       "      <td>95.619083</td>\n",
       "      <td>-0.030</td>\n",
       "    </tr>\n",
       "    <tr>\n",
       "      <th>2</th>\n",
       "      <td>72000.0</td>\n",
       "      <td>78</td>\n",
       "      <td>3.0</td>\n",
       "      <td>718.0</td>\n",
       "      <td>C</td>\n",
       "      <td>SF</td>\n",
       "      <td>1</td>\n",
       "      <td>P</td>\n",
       "      <td>68384.97</td>\n",
       "      <td>0.000000</td>\n",
       "      <td>1.02</td>\n",
       "      <td>5.8</td>\n",
       "      <td>276.353333</td>\n",
       "      <td>6.28</td>\n",
       "      <td>62.297306</td>\n",
       "      <td>1.595</td>\n",
       "    </tr>\n",
       "    <tr>\n",
       "      <th>3</th>\n",
       "      <td>103000.0</td>\n",
       "      <td>97</td>\n",
       "      <td>36.0</td>\n",
       "      <td>640.0</td>\n",
       "      <td>P</td>\n",
       "      <td>MH</td>\n",
       "      <td>1</td>\n",
       "      <td>P</td>\n",
       "      <td>100694.32</td>\n",
       "      <td>0.049237</td>\n",
       "      <td>1.28</td>\n",
       "      <td>6.9</td>\n",
       "      <td>266.040000</td>\n",
       "      <td>5.26</td>\n",
       "      <td>82.833069</td>\n",
       "      <td>3.865</td>\n",
       "    </tr>\n",
       "    <tr>\n",
       "      <th>4</th>\n",
       "      <td>61000.0</td>\n",
       "      <td>75</td>\n",
       "      <td>45.0</td>\n",
       "      <td>630.0</td>\n",
       "      <td>C</td>\n",
       "      <td>PU</td>\n",
       "      <td>1</td>\n",
       "      <td>P</td>\n",
       "      <td>60261.78</td>\n",
       "      <td>0.756658</td>\n",
       "      <td>4.61</td>\n",
       "      <td>5.2</td>\n",
       "      <td>249.720000</td>\n",
       "      <td>7.14</td>\n",
       "      <td>69.726881</td>\n",
       "      <td>1.860</td>\n",
       "    </tr>\n",
       "  </tbody>\n",
       "</table>\n",
       "</div>"
      ],
      "text/plain": [
       "   ORIG_UPB  OLTV   DTI  CSCORE_B PURPOSE PROP  NO_UNITS OCC_STAT   LAST_UPB  \\\n",
       "0   68000.0    82  17.0     584.0       R   SF         1        P   66727.36   \n",
       "1   81000.0    97  33.0     670.0       P   SF         1        P   81193.29   \n",
       "2   72000.0    78   3.0     718.0       C   SF         1        P   68384.97   \n",
       "3  103000.0    97  36.0     640.0       P   MH         1        P  100694.32   \n",
       "4   61000.0    75  45.0     630.0       C   PU         1        P   60261.78   \n",
       "\n",
       "   LOSS_GIVEN_DEFAULT   DFF  UNRATE    CURR_HPI  MORTGAGE30US    MTM_LTV  \\\n",
       "0            0.000000  1.79     6.7  260.090000          6.43  71.894627   \n",
       "1            0.000000  6.17     3.6  236.990000          8.28  95.619083   \n",
       "2            0.000000  1.02     5.8  276.353333          6.28  62.297306   \n",
       "3            0.049237  1.28     6.9  266.040000          5.26  82.833069   \n",
       "4            0.756658  4.61     5.2  249.720000          7.14  69.726881   \n",
       "\n",
       "   INT_DIFF  \n",
       "0     1.570  \n",
       "1    -0.030  \n",
       "2     1.595  \n",
       "3     3.865  \n",
       "4     1.860  "
      ]
     },
     "execution_count": 2,
     "metadata": {},
     "output_type": "execute_result"
    }
   ],
   "source": [
    "data = pd.read_csv(\"data/primary_dataset.csv\", index_col=0).dropna()\n",
    "data.head()"
   ]
  },
  {
   "cell_type": "code",
   "execution_count": 3,
   "id": "a663c0a1-1f6b-4fe1-ad72-95d2f013a553",
   "metadata": {
    "pycharm": {
     "name": "#%%\n"
    }
   },
   "outputs": [
    {
     "data": {
      "text/html": [
       "<div>\n",
       "<style scoped>\n",
       "    .dataframe tbody tr th:only-of-type {\n",
       "        vertical-align: middle;\n",
       "    }\n",
       "\n",
       "    .dataframe tbody tr th {\n",
       "        vertical-align: top;\n",
       "    }\n",
       "\n",
       "    .dataframe thead th {\n",
       "        text-align: right;\n",
       "    }\n",
       "</style>\n",
       "<table border=\"1\" class=\"dataframe\">\n",
       "  <thead>\n",
       "    <tr style=\"text-align: right;\">\n",
       "      <th></th>\n",
       "      <th>ORIG_UPB</th>\n",
       "      <th>OLTV</th>\n",
       "      <th>DTI</th>\n",
       "      <th>CSCORE_B</th>\n",
       "      <th>NO_UNITS</th>\n",
       "      <th>LAST_UPB</th>\n",
       "      <th>DFF</th>\n",
       "      <th>UNRATE</th>\n",
       "      <th>CURR_HPI</th>\n",
       "      <th>MORTGAGE30US</th>\n",
       "      <th>MTM_LTV</th>\n",
       "      <th>INT_DIFF</th>\n",
       "      <th>PURPOSE_P</th>\n",
       "      <th>PURPOSE_R</th>\n",
       "      <th>PURPOSE_U</th>\n",
       "      <th>PROP_MH</th>\n",
       "      <th>PROP_PU</th>\n",
       "      <th>PROP_SF</th>\n",
       "      <th>OCC_STAT_P</th>\n",
       "      <th>OCC_STAT_S</th>\n",
       "    </tr>\n",
       "  </thead>\n",
       "  <tbody>\n",
       "    <tr>\n",
       "      <th>4880</th>\n",
       "      <td>97000.0</td>\n",
       "      <td>90</td>\n",
       "      <td>52.0</td>\n",
       "      <td>668.0</td>\n",
       "      <td>1</td>\n",
       "      <td>83809.71</td>\n",
       "      <td>0.09</td>\n",
       "      <td>9.5</td>\n",
       "      <td>297.280000</td>\n",
       "      <td>3.62</td>\n",
       "      <td>68.904592</td>\n",
       "      <td>3.130</td>\n",
       "      <td>1</td>\n",
       "      <td>0</td>\n",
       "      <td>0</td>\n",
       "      <td>1</td>\n",
       "      <td>0</td>\n",
       "      <td>0</td>\n",
       "      <td>1</td>\n",
       "      <td>0</td>\n",
       "    </tr>\n",
       "    <tr>\n",
       "      <th>190</th>\n",
       "      <td>45000.0</td>\n",
       "      <td>70</td>\n",
       "      <td>59.0</td>\n",
       "      <td>626.0</td>\n",
       "      <td>1</td>\n",
       "      <td>36693.57</td>\n",
       "      <td>1.97</td>\n",
       "      <td>5.8</td>\n",
       "      <td>286.510000</td>\n",
       "      <td>5.77</td>\n",
       "      <td>47.012236</td>\n",
       "      <td>3.105</td>\n",
       "      <td>0</td>\n",
       "      <td>0</td>\n",
       "      <td>0</td>\n",
       "      <td>0</td>\n",
       "      <td>0</td>\n",
       "      <td>1</td>\n",
       "      <td>0</td>\n",
       "      <td>1</td>\n",
       "    </tr>\n",
       "    <tr>\n",
       "      <th>14350</th>\n",
       "      <td>126000.0</td>\n",
       "      <td>80</td>\n",
       "      <td>42.0</td>\n",
       "      <td>724.0</td>\n",
       "      <td>1</td>\n",
       "      <td>112654.50</td>\n",
       "      <td>0.30</td>\n",
       "      <td>5.1</td>\n",
       "      <td>334.353333</td>\n",
       "      <td>3.61</td>\n",
       "      <td>67.347991</td>\n",
       "      <td>1.640</td>\n",
       "      <td>0</td>\n",
       "      <td>0</td>\n",
       "      <td>0</td>\n",
       "      <td>0</td>\n",
       "      <td>1</td>\n",
       "      <td>0</td>\n",
       "      <td>1</td>\n",
       "      <td>0</td>\n",
       "    </tr>\n",
       "    <tr>\n",
       "      <th>4066</th>\n",
       "      <td>137000.0</td>\n",
       "      <td>80</td>\n",
       "      <td>39.0</td>\n",
       "      <td>645.0</td>\n",
       "      <td>1</td>\n",
       "      <td>121683.22</td>\n",
       "      <td>0.17</td>\n",
       "      <td>10.4</td>\n",
       "      <td>314.340000</td>\n",
       "      <td>4.58</td>\n",
       "      <td>59.055012</td>\n",
       "      <td>1.670</td>\n",
       "      <td>0</td>\n",
       "      <td>1</td>\n",
       "      <td>0</td>\n",
       "      <td>0</td>\n",
       "      <td>0</td>\n",
       "      <td>1</td>\n",
       "      <td>1</td>\n",
       "      <td>0</td>\n",
       "    </tr>\n",
       "    <tr>\n",
       "      <th>8593</th>\n",
       "      <td>65000.0</td>\n",
       "      <td>72</td>\n",
       "      <td>46.0</td>\n",
       "      <td>720.0</td>\n",
       "      <td>1</td>\n",
       "      <td>61648.24</td>\n",
       "      <td>0.23</td>\n",
       "      <td>10.8</td>\n",
       "      <td>335.506667</td>\n",
       "      <td>5.25</td>\n",
       "      <td>60.435587</td>\n",
       "      <td>0.500</td>\n",
       "      <td>0</td>\n",
       "      <td>1</td>\n",
       "      <td>0</td>\n",
       "      <td>0</td>\n",
       "      <td>0</td>\n",
       "      <td>1</td>\n",
       "      <td>1</td>\n",
       "      <td>0</td>\n",
       "    </tr>\n",
       "  </tbody>\n",
       "</table>\n",
       "</div>"
      ],
      "text/plain": [
       "       ORIG_UPB  OLTV   DTI  CSCORE_B  NO_UNITS   LAST_UPB   DFF  UNRATE  \\\n",
       "4880    97000.0    90  52.0     668.0         1   83809.71  0.09     9.5   \n",
       "190     45000.0    70  59.0     626.0         1   36693.57  1.97     5.8   \n",
       "14350  126000.0    80  42.0     724.0         1  112654.50  0.30     5.1   \n",
       "4066   137000.0    80  39.0     645.0         1  121683.22  0.17    10.4   \n",
       "8593    65000.0    72  46.0     720.0         1   61648.24  0.23    10.8   \n",
       "\n",
       "         CURR_HPI  MORTGAGE30US    MTM_LTV  INT_DIFF  PURPOSE_P  PURPOSE_R  \\\n",
       "4880   297.280000          3.62  68.904592     3.130          1          0   \n",
       "190    286.510000          5.77  47.012236     3.105          0          0   \n",
       "14350  334.353333          3.61  67.347991     1.640          0          0   \n",
       "4066   314.340000          4.58  59.055012     1.670          0          1   \n",
       "8593   335.506667          5.25  60.435587     0.500          0          1   \n",
       "\n",
       "       PURPOSE_U  PROP_MH  PROP_PU  PROP_SF  OCC_STAT_P  OCC_STAT_S  \n",
       "4880           0        1        0        0           1           0  \n",
       "190            0        0        0        1           0           1  \n",
       "14350          0        0        1        0           1           0  \n",
       "4066           0        0        0        1           1           0  \n",
       "8593           0        0        0        1           1           0  "
      ]
     },
     "execution_count": 3,
     "metadata": {},
     "output_type": "execute_result"
    }
   ],
   "source": [
    "X_train, X_test, y_train, y_test = train_test_split(\n",
    "    data.drop(\"LOSS_GIVEN_DEFAULT\", axis=1),\n",
    "    data[\"LOSS_GIVEN_DEFAULT\"],\n",
    "    train_size=0.8, random_state=1104)\n",
    "X_train_dum = pd.get_dummies(X_train, drop_first=True)\n",
    "X_train_dum.head()"
   ]
  },
  {
   "cell_type": "markdown",
   "id": "9ad9cdca-25ef-4d4c-810f-5661c1c4d0c1",
   "metadata": {
    "pycharm": {
     "name": "#%% md\n"
    }
   },
   "source": [
    "Then, I will build a random forest regressor and calculate the permutation importance."
   ]
  },
  {
   "cell_type": "code",
   "execution_count": 4,
   "id": "88ed2461-e7b4-4fc5-a740-ea1d5ee83694",
   "metadata": {
    "pycharm": {
     "name": "#%%\n"
    }
   },
   "outputs": [],
   "source": [
    "clf = RandomForestRegressor(\n",
    "    n_estimators=500, random_state=1104, criterion='absolute_error')\n",
    "clf.fit(X_train_dum, y_train)\n",
    "result = permutation_importance(\n",
    "    clf, X_train_dum, y_train, n_repeats=10, random_state=1104)"
   ]
  },
  {
   "cell_type": "markdown",
   "id": "57f29206-37d3-4531-9b2a-d44e5de518ef",
   "metadata": {
    "pycharm": {
     "name": "#%% md\n"
    }
   },
   "source": [
    "The random forest importances from the training set and the permutation importances' mean and standard deviation are shown below."
   ]
  },
  {
   "cell_type": "code",
   "execution_count": 5,
   "id": "e1bcb53a-7a7b-4b14-95fc-d00a4e5fafcd",
   "metadata": {
    "pycharm": {
     "name": "#%%\n"
    }
   },
   "outputs": [
    {
     "data": {
      "image/png": "[encoded data removed]",
      "text/plain": [
       "<Figure size 1152x432 with 2 Axes>"
      ]
     },
     "metadata": {
      "needs_background": "light"
     },
     "output_type": "display_data"
    }
   ],
   "source": [
    "perm_sorted_idx = result.importances_mean.argsort()\n",
    "tree_importance_sorted_idx = np.argsort(clf.feature_importances_)\n",
    "tree_indices = np.arange(0, len(clf.feature_importances_)) + 0.5\n",
    "# Plot\n",
    "fig, ax = plt.subplots(1, 2, figsize=(16, 6))\n",
    "ax[0].barh(tree_indices, clf.feature_importances_[\n",
    "    tree_importance_sorted_idx], height=0.7)\n",
    "ax[0].set_yticks(tree_indices)\n",
    "ax[0].set_yticklabels(X_train_dum.columns[tree_importance_sorted_idx])\n",
    "ax[0].set_ylim((0, len(clf.feature_importances_)))\n",
    "ax[1].boxplot(\n",
    "    result.importances[perm_sorted_idx].T,\n",
    "    vert=False,\n",
    "    labels=X_train_dum.columns[perm_sorted_idx],\n",
    ")\n",
    "ax[0].set_title(\"Random Forest Feature Importance\")\n",
    "ax[1].set_title(\"Random Forest Permutation Importance\")\n",
    "fig.tight_layout()\n",
    "plt.savefig(\"fig/feature_importance.png\")\n",
    "plt.show()"
   ]
  },
  {
   "cell_type": "markdown",
   "id": "64b78afe-701b-42d3-8232-8fc8eb693cb6",
   "metadata": {
    "pycharm": {
     "name": "#%% md\n"
    }
   },
   "source": [
    "As shown above, Occupancy Status (OCC_STAT) and Number of Units (NO_UNITS) have low importance in the random forest regression model, implying that these two features are not effective in explaining LGD, so I will discard these two features.\n",
    "\n",
    "Next, I will explore the correlations between the features. In particular, since I will use a nonlinear model in the next procedure, I will use Spearman's rank correlation coefficient\n",
    "$$r_s=\\rho_{R(X), R(Y)}=\\frac{CoV(R(X),R(Y))}{\\sigma_{R(X)}\\sigma_{R(Y)}}.$$"
   ]
  },
  {
   "cell_type": "code",
   "execution_count": 6,
   "id": "9889f671-cffa-494f-ad71-593ebbe41dfa",
   "metadata": {
    "pycharm": {
     "name": "#%%\n"
    }
   },
   "outputs": [],
   "source": [
    "corr = spearmanr(X_train_dum).correlation\n",
    "# Ensure the correlation matrix is symmetric\n",
    "corr = (corr + corr.T) / 2\n",
    "np.fill_diagonal(corr, 1)"
   ]
  },
  {
   "cell_type": "markdown",
   "id": "ad829b3f-0015-4c8c-8691-fb4f5c8e8918",
   "metadata": {
    "pycharm": {
     "name": "#%% md\n"
    }
   },
   "source": [
    "I will use the hierarchical clustering algorithm to show the distance between features. The original distance between features will be defined as $1-r_s$. Ward variance minimization algorithm will be used to measure the distance between clusters. From this algorithm, the new entry $d(u,v)$ is\n",
    "$$d(u,v)=\\sqrt{\\frac{|v|+|s|}{T}d(v,s)^2+\\frac{|v|+|t|}{T}d(v,t)^2-\\frac{v}{T}d(s,t)^2},$$\n",
    "where $u$ is the newly joined cluster consisting of clusters $s$ and $t$, $v$ is an unused cluster in the forest."
   ]
  },
  {
   "cell_type": "code",
   "execution_count": 7,
   "id": "cc98fe5f-8f9c-4ccd-8f08-26a09f374f86",
   "metadata": {
    "pycharm": {
     "name": "#%%\n"
    }
   },
   "outputs": [],
   "source": [
    "distance_matrix = 1 - np.abs(corr)\n",
    "dist_linkage = hierarchy.ward(squareform(distance_matrix))"
   ]
  },
  {
   "cell_type": "markdown",
   "id": "bc41f874-4f6d-4005-b3e3-189c296f633e",
   "metadata": {
    "pycharm": {
     "name": "#%% md\n"
    }
   },
   "source": [
    "The dendrogram is shown below."
   ]
  },
  {
   "cell_type": "code",
   "execution_count": 8,
   "id": "a59e6128-c787-43f4-a784-d42d262ca0f8",
   "metadata": {
    "pycharm": {
     "name": "#%%\n"
    }
   },
   "outputs": [
    {
     "data": {
      "image/png": "[encoded data removed]",
      "text/plain": [
       "<Figure size 576x432 with 1 Axes>"
      ]
     },
     "metadata": {
      "needs_background": "light"
     },
     "output_type": "display_data"
    }
   ],
   "source": [
    "fig, ax = plt.subplots(1, 1, figsize=(8, 6))\n",
    "hierarchy.dendrogram(dist_linkage, labels=X_train_dum.columns,\n",
    "                     ax=ax, leaf_rotation=90)\n",
    "ax.set_title(\"Features\\' Hierarchical Clustering\")\n",
    "fig.tight_layout()\n",
    "plt.savefig(\"fig/feature_dendrogram.png\")\n",
    "plt.show()"
   ]
  },
  {
   "cell_type": "markdown",
   "id": "232beb9b-0893-4c2c-993b-f76df16d6c12",
   "metadata": {
    "pycharm": {
     "name": "#%% md\n"
    }
   },
   "source": [
    "As can be seen in the above figure, the Original Unpaid Principal Balance (ORIG_UPB) and Last Unpaid Principal Balance (LAST_UPB) are very close to each other. The importance of both features is similar, but considering the stability of the data, I will choose Original Unpaid Principal Balance to be kept in the feature set. Similarly, Federal Funds Effective Rate (DFF) and 30-Year Fixed Rate Mortgage Average ( MORTGAGE30US) are also very close to each other. To facilitate the ease of interpretation of the final model, I will keep only the 30-Year Fixed Rate Mortgage Average."
   ]
  },
  {
   "cell_type": "markdown",
   "id": "7bf3aaca-7993-4cc8-b6ba-9bc0f6fc0973",
   "metadata": {
    "pycharm": {
     "name": "#%% md\n"
    }
   },
   "source": [
    "## Exploratory Data Analysis"
   ]
  },
  {
   "cell_type": "markdown",
   "id": "526a3104-9629-461b-a35e-79c1af92d499",
   "metadata": {
    "pycharm": {
     "name": "#%% md\n"
    }
   },
   "source": [
    "After discarding the four features selected above, I would like to observe the distribution of all numerical variables first."
   ]
  },
  {
   "cell_type": "code",
   "execution_count": 9,
   "id": "7b3d235b-097e-467a-9ae0-78f9fbb94154",
   "metadata": {
    "pycharm": {
     "name": "#%%\n"
    },
    "tags": []
   },
   "outputs": [
    {
     "data": {
      "text/plain": [
       "Index(['ORIG_UPB', 'OLTV', 'DTI', 'CSCORE_B', 'UNRATE', 'CURR_HPI',\n",
       "       'MORTGAGE30US', 'MTM_LTV', 'INT_DIFF'],\n",
       "      dtype='object')"
      ]
     },
     "execution_count": 9,
     "metadata": {},
     "output_type": "execute_result"
    }
   ],
   "source": [
    "drop_list = ['OCC_STAT', 'NO_UNITS', 'LAST_UPB', 'DFF']\n",
    "X_train = X_train.drop(drop_list, axis=1)\n",
    "X_train.columns[X_train.dtypes != 'object']"
   ]
  },
  {
   "cell_type": "code",
   "execution_count": 10,
   "id": "62e2860d-7b1b-49dc-a43a-22562275e04c",
   "metadata": {
    "pycharm": {
     "name": "#%%\n"
    }
   },
   "outputs": [
    {
     "data": {
      "image/png": "[encoded data removed]",
      "text/plain": [
       "<Figure size 1728x1296 with 9 Axes>"
      ]
     },
     "metadata": {
      "needs_background": "light"
     },
     "output_type": "display_data"
    }
   ],
   "source": [
    "fig, ax = plt.subplots(3, 3, figsize=(24, 18))\n",
    "ax[0, 0].hist(X_train['ORIG_UPB'], 20, density=True)\n",
    "ax[0, 0].set_title(\"Original Unpaid Principal Balance\")\n",
    "ax[0, 1].hist(X_train['OLTV'], 9, range=(40, 100), density=True)\n",
    "ax[0, 1].set_title(\"Original Loan to Value Ratio\")\n",
    "ax[0, 2].hist(X_train['DTI'], 20, density=True)\n",
    "ax[0, 2].set_title(\"Debt-to-Income\")\n",
    "ax[1, 0].hist(X_train['CSCORE_B'], 20, range=(500, 810), density=True)\n",
    "ax[1, 0].set_title(\"Borrower Credit Score at Origination\")\n",
    "ax[1, 1].hist(X_train['UNRATE'], 15, density=True)\n",
    "ax[1, 1].set_title(\"Unemployment Rate\")\n",
    "ax[1, 2].hist(X_train['CURR_HPI'], 14, range=(250, 400), density=True)\n",
    "ax[1, 2].set_title(\"Home Price Index\")\n",
    "ax[2, 0].hist(X_train['MORTGAGE30US'], 15, range=(3, 7.5), density=True)\n",
    "ax[2, 0].set_title(\"30-Year Fixed Rate Mortgage Average\")\n",
    "ax[2, 1].hist(X_train['MTM_LTV'], 20, density=True)\n",
    "ax[2, 1].set_title(\"Mark-to-Market Loan to Value Ratio\")\n",
    "ax[2, 2].hist(X_train['INT_DIFF'], 20, density=True)\n",
    "ax[2, 2].set_title(\"Difference between Interest Rates\")\n",
    "fig.tight_layout()\n",
    "fig.savefig(\"fig/feature_distribution.png\")\n",
    "plt.show()"
   ]
  },
  {
   "cell_type": "markdown",
   "id": "b50ffff1-335c-4415-9a8c-1e0824ea660b",
   "metadata": {
    "pycharm": {
     "name": "#%% md\n"
    }
   },
   "source": [
    "From the above images, we can find that most of the features are symmetrically distributed, and only Original Unpaid Principal Balance and Original Loan to Value Ratio show obvious skewnesses. In order to increase the spread of the features while retaining the interpretability, I keep the other features and take the logarithm of the Original Unpaid Principal Balance to replace the original values.\n",
    "\n",
    "Combining all of the above, I will perform feature removal and feature transformation on the original dataset and save it as a new dataset for subsequent modeling."
   ]
  },
  {
   "cell_type": "code",
   "execution_count": 11,
   "id": "41c0f873-4511-40e0-b264-be1e450b36ac",
   "metadata": {
    "pycharm": {
     "name": "#%%\n"
    }
   },
   "outputs": [],
   "source": [
    "data['LOG_OUPB'] = np.log(data['ORIG_UPB'])\n",
    "data = data.drop(drop_list + ['ORIG_UPB'], axis=1)\n",
    "data.to_csv(\"data/final_dataset.csv\")"
   ]
  }
 ],
 "metadata": {
  "kernelspec": {
   "display_name": "Python 3 (ipykernel)",
   "language": "python",
   "name": "python3"
  },
  "language_info": {
   "codemirror_mode": {
    "name": "ipython",
    "version": 3
   },
   "file_extension": ".py",
   "mimetype": "text/x-python",
   "name": "python",
   "nbconvert_exporter": "python",
   "pygments_lexer": "ipython3",
   "version": "3.9.13"
  }
 },
 "nbformat": 4,
 "nbformat_minor": 5
}
